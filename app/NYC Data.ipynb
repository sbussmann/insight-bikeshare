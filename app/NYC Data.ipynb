{
 "cells": [
  {
   "cell_type": "markdown",
   "metadata": {},
   "source": [
    "# Consolidate quarterly NYC data summaries into one csv file"
   ]
  },
  {
   "cell_type": "code",
   "execution_count": 2,
   "metadata": {
    "collapsed": true
   },
   "outputs": [],
   "source": [
    "import pandas as pd\n",
    "%matplotlib inline"
   ]
  },
  {
   "cell_type": "code",
   "execution_count": 4,
   "metadata": {
    "collapsed": true
   },
   "outputs": [],
   "source": [
    "# read in the data\n",
    "d1 = pd.read_csv('NYC/data1.csv')\n",
    "d2 = pd.read_csv('NYC/data2.csv')\n",
    "d3 = pd.read_csv('NYC/data3.csv')\n",
    "d4 = pd.read_csv('NYC/data4.csv')\n",
    "d5 = pd.read_csv('NYC/data5.csv')\n",
    "d6 = pd.read_csv('NYC/data6.csv')\n",
    "d7 = pd.read_csv('NYC/data7.csv')"
   ]
  },
  {
   "cell_type": "code",
   "execution_count": 5,
   "metadata": {
    "collapsed": true
   },
   "outputs": [],
   "source": [
    "dall = [d1, d2, d3, d4, d5, d6, d7]\n",
    "dconcat = pd.concat(dall)"
   ]
  },
  {
   "cell_type": "code",
   "execution_count": 8,
   "metadata": {
    "collapsed": false
   },
   "outputs": [],
   "source": [
    "dconcat.to_csv('NYC/alldata.csv')"
   ]
  },
  {
   "cell_type": "code",
   "execution_count": 3,
   "metadata": {
    "collapsed": false
   },
   "outputs": [],
   "source": [
    "dconcat = pd.read_csv('../Data/NYC/alldata.csv')"
   ]
  },
  {
   "cell_type": "code",
   "execution_count": 4,
   "metadata": {
    "collapsed": false
   },
   "outputs": [
    {
     "data": {
      "text/plain": [
       "Index([u'Unnamed: 0', u'24-Hour Passes Purchased (midnight to 11:59 pm)',\n",
       "       u'24-Hour Passes Purchased (midnight to 11:59 pm)\\t7-Day Passes Purchased (midnight to 11:59 pm)',\n",
       "       u'7-Day Passes Purchased (midnight to 11:59 pm)',\n",
       "       u'Annual Member Sign-Ups (midnight to 11:59 pm)',\n",
       "       u'Cumulative trips (since launch):', u'Date',\n",
       "       u'Miles traveled to date:',\n",
       "       u'Miles traveled today (midnight to 11:59 pm)', u'Total Annual Members',\n",
       "       u'Total Annual Members (All Time)', u'Total Annual Memberships Sold',\n",
       "       u'Trips over the past 24-hours (midnight to 11:59pm)'],\n",
       "      dtype='object')"
      ]
     },
     "execution_count": 4,
     "metadata": {},
     "output_type": "execute_result"
    }
   ],
   "source": [
    "dconcat.columns"
   ]
  },
  {
   "cell_type": "code",
   "execution_count": null,
   "metadata": {
    "collapsed": true
   },
   "outputs": [],
   "source": []
  }
 ],
 "metadata": {
  "kernelspec": {
   "display_name": "Python 2",
   "language": "python",
   "name": "python2"
  },
  "language_info": {
   "codemirror_mode": {
    "name": "ipython",
    "version": 2
   },
   "file_extension": ".py",
   "mimetype": "text/x-python",
   "name": "python",
   "nbconvert_exporter": "python",
   "pygments_lexer": "ipython2",
   "version": "2.7.10"
  }
 },
 "nbformat": 4,
 "nbformat_minor": 0
}
