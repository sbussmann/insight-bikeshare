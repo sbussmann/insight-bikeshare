{
 "cells": [
  {
   "cell_type": "markdown",
   "metadata": {},
   "source": [
    "# Assemble Boston dataframe"
   ]
  },
  {
   "cell_type": "code",
   "execution_count": 139,
   "metadata": {
    "collapsed": true
   },
   "outputs": [],
   "source": [
    "import pandas as pd\n",
    "%matplotlib inline\n",
    "import glob\n",
    "import numpy as np\n",
    "import matplotlib.pyplot as plt"
   ]
  },
  {
   "cell_type": "code",
   "execution_count": 161,
   "metadata": {
    "collapsed": false
   },
   "outputs": [
    {
     "data": {
      "text/plain": [
       "['../Data/Boston/hubway_trips_small.csv']"
      ]
     },
     "execution_count": 161,
     "metadata": {},
     "output_type": "execute_result"
    }
   ],
   "source": [
    "# read in the data\n",
    "datafiles = glob.glob('../Data/Boston/hubway_trips_small.csv')\n",
    "datafiles"
   ]
  },
  {
   "cell_type": "code",
   "execution_count": 162,
   "metadata": {
    "collapsed": true
   },
   "outputs": [],
   "source": [
    "dall = [pd.read_csv(datafile) for datafile in datafiles]\n",
    "dconcat = pd.concat(dall)"
   ]
  },
  {
   "cell_type": "code",
   "execution_count": 163,
   "metadata": {
    "collapsed": false
   },
   "outputs": [],
   "source": [
    "temp = pd.DatetimeIndex(dconcat['start_date'])\n",
    "dconcat['start_day'] = temp.date\n",
    "#dconcat['start_time'] = temp.time\n",
    "dconcat['nrides'] = np.ones(len(dconcat))\n",
    "dconcat = dconcat.rename(columns={'strt_statn': 'stationid'})"
   ]
  },
  {
   "cell_type": "markdown",
   "metadata": {},
   "source": [
    "###### Add features for number of rides and number of stations per day.  Appoximate number of stations as number of unique start stations."
   ]
  },
  {
   "cell_type": "code",
   "execution_count": 185,
   "metadata": {
    "collapsed": false
   },
   "outputs": [],
   "source": [
    "databydaygroup = dconcat.groupby([\"start_day\", \"stationid\"], as_index=False)"
   ]
  },
  {
   "cell_type": "code",
   "execution_count": 186,
   "metadata": {
    "collapsed": false
   },
   "outputs": [
    {
     "data": {
      "text/plain": [
       "Index([u'seq_id', u'hubway_id', u'status', u'duration', u'start_date',\n",
       "       u'stationid', u'end_date', u'end_statn', u'bike_nr', u'subsc_type',\n",
       "       u'zip_code', u'birth_date', u'gender', u'start_day', u'nrides'],\n",
       "      dtype='object')"
      ]
     },
     "execution_count": 186,
     "metadata": {},
     "output_type": "execute_result"
    }
   ],
   "source": [
    "dconcat.columns"
   ]
  },
  {
   "cell_type": "code",
   "execution_count": 187,
   "metadata": {
    "collapsed": true
   },
   "outputs": [],
   "source": [
    "databyday = databydaygroup.agg({\"nrides\": lambda x: x.sum(), \"duration\": lambda x: np.median(x)})"
   ]
  },
  {
   "cell_type": "code",
   "execution_count": 149,
   "metadata": {
    "collapsed": false
   },
   "outputs": [
    {
     "ename": "SyntaxError",
     "evalue": "invalid syntax (<ipython-input-149-4fc87db399b5>, line 1)",
     "output_type": "error",
     "traceback": [
      "\u001b[0;36m  File \u001b[0;32m\"<ipython-input-149-4fc87db399b5>\"\u001b[0;36m, line \u001b[0;32m1\u001b[0m\n\u001b[0;31m    databyday = dconcat.groupby([\"start_day\", \"strt_statn\"], as_index=False).agg(\"nrides\": lambda x: x.sum()})\u001b[0m\n\u001b[0m                                                                                         ^\u001b[0m\n\u001b[0;31mSyntaxError\u001b[0m\u001b[0;31m:\u001b[0m invalid syntax\n"
     ]
    }
   ],
   "source": [
    "databyday = dconcat.groupby([\"start_day\", \"strt_statn\"], as_index=False).agg(\"nrides\": lambda x: x.sum()})"
   ]
  },
  {
   "cell_type": "markdown",
   "metadata": {},
   "source": [
    "###### Add features for day of week, day of year, and years since start of program"
   ]
  },
  {
   "cell_type": "code",
   "execution_count": 188,
   "metadata": {
    "collapsed": false,
    "scrolled": true
   },
   "outputs": [
    {
     "data": {
      "text/html": [
       "<div>\n",
       "<table border=\"1\" class=\"dataframe\">\n",
       "  <thead>\n",
       "    <tr style=\"text-align: right;\">\n",
       "      <th></th>\n",
       "      <th>start_day</th>\n",
       "      <th>stationid</th>\n",
       "      <th>duration</th>\n",
       "      <th>nrides</th>\n",
       "    </tr>\n",
       "  </thead>\n",
       "  <tbody>\n",
       "    <tr>\n",
       "      <th>0</th>\n",
       "      <td>2011-07-28</td>\n",
       "      <td>3</td>\n",
       "      <td>641.0</td>\n",
       "      <td>8</td>\n",
       "    </tr>\n",
       "    <tr>\n",
       "      <th>1</th>\n",
       "      <td>2011-07-28</td>\n",
       "      <td>5</td>\n",
       "      <td>545.0</td>\n",
       "      <td>9</td>\n",
       "    </tr>\n",
       "    <tr>\n",
       "      <th>2</th>\n",
       "      <td>2011-07-28</td>\n",
       "      <td>6</td>\n",
       "      <td>865.0</td>\n",
       "      <td>3</td>\n",
       "    </tr>\n",
       "    <tr>\n",
       "      <th>3</th>\n",
       "      <td>2011-07-28</td>\n",
       "      <td>8</td>\n",
       "      <td>1201.0</td>\n",
       "      <td>9</td>\n",
       "    </tr>\n",
       "    <tr>\n",
       "      <th>4</th>\n",
       "      <td>2011-07-28</td>\n",
       "      <td>9</td>\n",
       "      <td>504.5</td>\n",
       "      <td>8</td>\n",
       "    </tr>\n",
       "    <tr>\n",
       "      <th>5</th>\n",
       "      <td>2011-07-28</td>\n",
       "      <td>10</td>\n",
       "      <td>963.5</td>\n",
       "      <td>10</td>\n",
       "    </tr>\n",
       "    <tr>\n",
       "      <th>6</th>\n",
       "      <td>2011-07-28</td>\n",
       "      <td>12</td>\n",
       "      <td>711.0</td>\n",
       "      <td>5</td>\n",
       "    </tr>\n",
       "    <tr>\n",
       "      <th>7</th>\n",
       "      <td>2011-07-28</td>\n",
       "      <td>13</td>\n",
       "      <td>483.0</td>\n",
       "      <td>3</td>\n",
       "    </tr>\n",
       "    <tr>\n",
       "      <th>8</th>\n",
       "      <td>2011-07-28</td>\n",
       "      <td>14</td>\n",
       "      <td>862.0</td>\n",
       "      <td>3</td>\n",
       "    </tr>\n",
       "    <tr>\n",
       "      <th>9</th>\n",
       "      <td>2011-07-28</td>\n",
       "      <td>15</td>\n",
       "      <td>1678.0</td>\n",
       "      <td>3</td>\n",
       "    </tr>\n",
       "    <tr>\n",
       "      <th>10</th>\n",
       "      <td>2011-07-28</td>\n",
       "      <td>16</td>\n",
       "      <td>1611.5</td>\n",
       "      <td>8</td>\n",
       "    </tr>\n",
       "    <tr>\n",
       "      <th>11</th>\n",
       "      <td>2011-07-28</td>\n",
       "      <td>17</td>\n",
       "      <td>122.0</td>\n",
       "      <td>2</td>\n",
       "    </tr>\n",
       "    <tr>\n",
       "      <th>12</th>\n",
       "      <td>2011-07-28</td>\n",
       "      <td>20</td>\n",
       "      <td>2106.0</td>\n",
       "      <td>5</td>\n",
       "    </tr>\n",
       "    <tr>\n",
       "      <th>13</th>\n",
       "      <td>2011-07-28</td>\n",
       "      <td>21</td>\n",
       "      <td>1104.0</td>\n",
       "      <td>10</td>\n",
       "    </tr>\n",
       "    <tr>\n",
       "      <th>14</th>\n",
       "      <td>2011-07-28</td>\n",
       "      <td>22</td>\n",
       "      <td>899.0</td>\n",
       "      <td>41</td>\n",
       "    </tr>\n",
       "    <tr>\n",
       "      <th>15</th>\n",
       "      <td>2011-07-28</td>\n",
       "      <td>23</td>\n",
       "      <td>726.0</td>\n",
       "      <td>41</td>\n",
       "    </tr>\n",
       "    <tr>\n",
       "      <th>16</th>\n",
       "      <td>2011-07-28</td>\n",
       "      <td>24</td>\n",
       "      <td>784.0</td>\n",
       "      <td>9</td>\n",
       "    </tr>\n",
       "    <tr>\n",
       "      <th>17</th>\n",
       "      <td>2011-07-28</td>\n",
       "      <td>25</td>\n",
       "      <td>976.0</td>\n",
       "      <td>10</td>\n",
       "    </tr>\n",
       "    <tr>\n",
       "      <th>18</th>\n",
       "      <td>2011-07-28</td>\n",
       "      <td>26</td>\n",
       "      <td>1153.0</td>\n",
       "      <td>5</td>\n",
       "    </tr>\n",
       "    <tr>\n",
       "      <th>19</th>\n",
       "      <td>2011-07-28</td>\n",
       "      <td>27</td>\n",
       "      <td>1267.0</td>\n",
       "      <td>3</td>\n",
       "    </tr>\n",
       "    <tr>\n",
       "      <th>20</th>\n",
       "      <td>2011-07-28</td>\n",
       "      <td>31</td>\n",
       "      <td>723.0</td>\n",
       "      <td>5</td>\n",
       "    </tr>\n",
       "    <tr>\n",
       "      <th>21</th>\n",
       "      <td>2011-07-28</td>\n",
       "      <td>32</td>\n",
       "      <td>1212.0</td>\n",
       "      <td>4</td>\n",
       "    </tr>\n",
       "    <tr>\n",
       "      <th>22</th>\n",
       "      <td>2011-07-28</td>\n",
       "      <td>33</td>\n",
       "      <td>711.0</td>\n",
       "      <td>14</td>\n",
       "    </tr>\n",
       "    <tr>\n",
       "      <th>23</th>\n",
       "      <td>2011-07-28</td>\n",
       "      <td>34</td>\n",
       "      <td>659.0</td>\n",
       "      <td>3</td>\n",
       "    </tr>\n",
       "    <tr>\n",
       "      <th>24</th>\n",
       "      <td>2011-07-28</td>\n",
       "      <td>35</td>\n",
       "      <td>907.0</td>\n",
       "      <td>14</td>\n",
       "    </tr>\n",
       "    <tr>\n",
       "      <th>25</th>\n",
       "      <td>2011-07-28</td>\n",
       "      <td>36</td>\n",
       "      <td>788.0</td>\n",
       "      <td>30</td>\n",
       "    </tr>\n",
       "    <tr>\n",
       "      <th>26</th>\n",
       "      <td>2011-07-28</td>\n",
       "      <td>38</td>\n",
       "      <td>1266.0</td>\n",
       "      <td>23</td>\n",
       "    </tr>\n",
       "    <tr>\n",
       "      <th>27</th>\n",
       "      <td>2011-07-28</td>\n",
       "      <td>39</td>\n",
       "      <td>647.5</td>\n",
       "      <td>8</td>\n",
       "    </tr>\n",
       "    <tr>\n",
       "      <th>28</th>\n",
       "      <td>2011-07-28</td>\n",
       "      <td>40</td>\n",
       "      <td>1504.5</td>\n",
       "      <td>18</td>\n",
       "    </tr>\n",
       "    <tr>\n",
       "      <th>29</th>\n",
       "      <td>2011-07-28</td>\n",
       "      <td>41</td>\n",
       "      <td>1302.0</td>\n",
       "      <td>9</td>\n",
       "    </tr>\n",
       "    <tr>\n",
       "      <th>...</th>\n",
       "      <td>...</td>\n",
       "      <td>...</td>\n",
       "      <td>...</td>\n",
       "      <td>...</td>\n",
       "    </tr>\n",
       "    <tr>\n",
       "      <th>4003</th>\n",
       "      <td>2011-10-16</td>\n",
       "      <td>33</td>\n",
       "      <td>1014.0</td>\n",
       "      <td>30</td>\n",
       "    </tr>\n",
       "    <tr>\n",
       "      <th>4004</th>\n",
       "      <td>2011-10-16</td>\n",
       "      <td>34</td>\n",
       "      <td>1010.0</td>\n",
       "      <td>4</td>\n",
       "    </tr>\n",
       "    <tr>\n",
       "      <th>4005</th>\n",
       "      <td>2011-10-16</td>\n",
       "      <td>35</td>\n",
       "      <td>1781.0</td>\n",
       "      <td>15</td>\n",
       "    </tr>\n",
       "    <tr>\n",
       "      <th>4006</th>\n",
       "      <td>2011-10-16</td>\n",
       "      <td>36</td>\n",
       "      <td>956.0</td>\n",
       "      <td>59</td>\n",
       "    </tr>\n",
       "    <tr>\n",
       "      <th>4007</th>\n",
       "      <td>2011-10-16</td>\n",
       "      <td>37</td>\n",
       "      <td>4630.0</td>\n",
       "      <td>7</td>\n",
       "    </tr>\n",
       "    <tr>\n",
       "      <th>4008</th>\n",
       "      <td>2011-10-16</td>\n",
       "      <td>38</td>\n",
       "      <td>1399.0</td>\n",
       "      <td>11</td>\n",
       "    </tr>\n",
       "    <tr>\n",
       "      <th>4009</th>\n",
       "      <td>2011-10-16</td>\n",
       "      <td>39</td>\n",
       "      <td>675.0</td>\n",
       "      <td>21</td>\n",
       "    </tr>\n",
       "    <tr>\n",
       "      <th>4010</th>\n",
       "      <td>2011-10-16</td>\n",
       "      <td>40</td>\n",
       "      <td>990.0</td>\n",
       "      <td>23</td>\n",
       "    </tr>\n",
       "    <tr>\n",
       "      <th>4011</th>\n",
       "      <td>2011-10-16</td>\n",
       "      <td>41</td>\n",
       "      <td>1841.0</td>\n",
       "      <td>24</td>\n",
       "    </tr>\n",
       "    <tr>\n",
       "      <th>4012</th>\n",
       "      <td>2011-10-16</td>\n",
       "      <td>42</td>\n",
       "      <td>1349.5</td>\n",
       "      <td>62</td>\n",
       "    </tr>\n",
       "    <tr>\n",
       "      <th>4013</th>\n",
       "      <td>2011-10-16</td>\n",
       "      <td>43</td>\n",
       "      <td>871.5</td>\n",
       "      <td>14</td>\n",
       "    </tr>\n",
       "    <tr>\n",
       "      <th>4014</th>\n",
       "      <td>2011-10-16</td>\n",
       "      <td>44</td>\n",
       "      <td>2132.0</td>\n",
       "      <td>14</td>\n",
       "    </tr>\n",
       "    <tr>\n",
       "      <th>4015</th>\n",
       "      <td>2011-10-16</td>\n",
       "      <td>45</td>\n",
       "      <td>778.0</td>\n",
       "      <td>25</td>\n",
       "    </tr>\n",
       "    <tr>\n",
       "      <th>4016</th>\n",
       "      <td>2011-10-16</td>\n",
       "      <td>46</td>\n",
       "      <td>826.0</td>\n",
       "      <td>33</td>\n",
       "    </tr>\n",
       "    <tr>\n",
       "      <th>4017</th>\n",
       "      <td>2011-10-16</td>\n",
       "      <td>47</td>\n",
       "      <td>1608.0</td>\n",
       "      <td>24</td>\n",
       "    </tr>\n",
       "    <tr>\n",
       "      <th>4018</th>\n",
       "      <td>2011-10-16</td>\n",
       "      <td>48</td>\n",
       "      <td>315.0</td>\n",
       "      <td>3</td>\n",
       "    </tr>\n",
       "    <tr>\n",
       "      <th>4019</th>\n",
       "      <td>2011-10-16</td>\n",
       "      <td>49</td>\n",
       "      <td>961.5</td>\n",
       "      <td>20</td>\n",
       "    </tr>\n",
       "    <tr>\n",
       "      <th>4020</th>\n",
       "      <td>2011-10-16</td>\n",
       "      <td>50</td>\n",
       "      <td>369.5</td>\n",
       "      <td>8</td>\n",
       "    </tr>\n",
       "    <tr>\n",
       "      <th>4021</th>\n",
       "      <td>2011-10-16</td>\n",
       "      <td>51</td>\n",
       "      <td>755.0</td>\n",
       "      <td>5</td>\n",
       "    </tr>\n",
       "    <tr>\n",
       "      <th>4022</th>\n",
       "      <td>2011-10-16</td>\n",
       "      <td>52</td>\n",
       "      <td>1037.5</td>\n",
       "      <td>34</td>\n",
       "    </tr>\n",
       "    <tr>\n",
       "      <th>4023</th>\n",
       "      <td>2011-10-16</td>\n",
       "      <td>53</td>\n",
       "      <td>2038.5</td>\n",
       "      <td>30</td>\n",
       "    </tr>\n",
       "    <tr>\n",
       "      <th>4024</th>\n",
       "      <td>2011-10-16</td>\n",
       "      <td>54</td>\n",
       "      <td>1169.0</td>\n",
       "      <td>27</td>\n",
       "    </tr>\n",
       "    <tr>\n",
       "      <th>4025</th>\n",
       "      <td>2011-10-16</td>\n",
       "      <td>55</td>\n",
       "      <td>1171.0</td>\n",
       "      <td>32</td>\n",
       "    </tr>\n",
       "    <tr>\n",
       "      <th>4026</th>\n",
       "      <td>2011-10-16</td>\n",
       "      <td>56</td>\n",
       "      <td>969.5</td>\n",
       "      <td>14</td>\n",
       "    </tr>\n",
       "    <tr>\n",
       "      <th>4027</th>\n",
       "      <td>2011-10-16</td>\n",
       "      <td>57</td>\n",
       "      <td>523.0</td>\n",
       "      <td>18</td>\n",
       "    </tr>\n",
       "    <tr>\n",
       "      <th>4028</th>\n",
       "      <td>2011-10-16</td>\n",
       "      <td>58</td>\n",
       "      <td>3461.5</td>\n",
       "      <td>30</td>\n",
       "    </tr>\n",
       "    <tr>\n",
       "      <th>4029</th>\n",
       "      <td>2011-10-16</td>\n",
       "      <td>59</td>\n",
       "      <td>933.5</td>\n",
       "      <td>6</td>\n",
       "    </tr>\n",
       "    <tr>\n",
       "      <th>4030</th>\n",
       "      <td>2011-10-16</td>\n",
       "      <td>60</td>\n",
       "      <td>1776.0</td>\n",
       "      <td>41</td>\n",
       "    </tr>\n",
       "    <tr>\n",
       "      <th>4031</th>\n",
       "      <td>2011-10-16</td>\n",
       "      <td>61</td>\n",
       "      <td>522.0</td>\n",
       "      <td>15</td>\n",
       "    </tr>\n",
       "    <tr>\n",
       "      <th>4032</th>\n",
       "      <td>2011-10-16</td>\n",
       "      <td>62</td>\n",
       "      <td>1140.0</td>\n",
       "      <td>5</td>\n",
       "    </tr>\n",
       "  </tbody>\n",
       "</table>\n",
       "<p>4033 rows × 4 columns</p>\n",
       "</div>"
      ],
      "text/plain": [
       "       start_day  stationid  duration  nrides\n",
       "0     2011-07-28          3     641.0       8\n",
       "1     2011-07-28          5     545.0       9\n",
       "2     2011-07-28          6     865.0       3\n",
       "3     2011-07-28          8    1201.0       9\n",
       "4     2011-07-28          9     504.5       8\n",
       "5     2011-07-28         10     963.5      10\n",
       "6     2011-07-28         12     711.0       5\n",
       "7     2011-07-28         13     483.0       3\n",
       "8     2011-07-28         14     862.0       3\n",
       "9     2011-07-28         15    1678.0       3\n",
       "10    2011-07-28         16    1611.5       8\n",
       "11    2011-07-28         17     122.0       2\n",
       "12    2011-07-28         20    2106.0       5\n",
       "13    2011-07-28         21    1104.0      10\n",
       "14    2011-07-28         22     899.0      41\n",
       "15    2011-07-28         23     726.0      41\n",
       "16    2011-07-28         24     784.0       9\n",
       "17    2011-07-28         25     976.0      10\n",
       "18    2011-07-28         26    1153.0       5\n",
       "19    2011-07-28         27    1267.0       3\n",
       "20    2011-07-28         31     723.0       5\n",
       "21    2011-07-28         32    1212.0       4\n",
       "22    2011-07-28         33     711.0      14\n",
       "23    2011-07-28         34     659.0       3\n",
       "24    2011-07-28         35     907.0      14\n",
       "25    2011-07-28         36     788.0      30\n",
       "26    2011-07-28         38    1266.0      23\n",
       "27    2011-07-28         39     647.5       8\n",
       "28    2011-07-28         40    1504.5      18\n",
       "29    2011-07-28         41    1302.0       9\n",
       "...          ...        ...       ...     ...\n",
       "4003  2011-10-16         33    1014.0      30\n",
       "4004  2011-10-16         34    1010.0       4\n",
       "4005  2011-10-16         35    1781.0      15\n",
       "4006  2011-10-16         36     956.0      59\n",
       "4007  2011-10-16         37    4630.0       7\n",
       "4008  2011-10-16         38    1399.0      11\n",
       "4009  2011-10-16         39     675.0      21\n",
       "4010  2011-10-16         40     990.0      23\n",
       "4011  2011-10-16         41    1841.0      24\n",
       "4012  2011-10-16         42    1349.5      62\n",
       "4013  2011-10-16         43     871.5      14\n",
       "4014  2011-10-16         44    2132.0      14\n",
       "4015  2011-10-16         45     778.0      25\n",
       "4016  2011-10-16         46     826.0      33\n",
       "4017  2011-10-16         47    1608.0      24\n",
       "4018  2011-10-16         48     315.0       3\n",
       "4019  2011-10-16         49     961.5      20\n",
       "4020  2011-10-16         50     369.5       8\n",
       "4021  2011-10-16         51     755.0       5\n",
       "4022  2011-10-16         52    1037.5      34\n",
       "4023  2011-10-16         53    2038.5      30\n",
       "4024  2011-10-16         54    1169.0      27\n",
       "4025  2011-10-16         55    1171.0      32\n",
       "4026  2011-10-16         56     969.5      14\n",
       "4027  2011-10-16         57     523.0      18\n",
       "4028  2011-10-16         58    3461.5      30\n",
       "4029  2011-10-16         59     933.5       6\n",
       "4030  2011-10-16         60    1776.0      41\n",
       "4031  2011-10-16         61     522.0      15\n",
       "4032  2011-10-16         62    1140.0       5\n",
       "\n",
       "[4033 rows x 4 columns]"
      ]
     },
     "execution_count": 188,
     "metadata": {},
     "output_type": "execute_result"
    }
   ],
   "source": [
    "databyday"
   ]
  },
  {
   "cell_type": "code",
   "execution_count": 189,
   "metadata": {
    "collapsed": false
   },
   "outputs": [],
   "source": [
    "tempdate = pd.DatetimeIndex(databyday['start_day'])\n",
    "databyday['deltayear'] = tempdate.year - tempdate.year[0]\n",
    "databyday['dayofweek'] = tempdate.dayofweek\n",
    "databyday['dayofyear'] = tempdate.dayofyear"
   ]
  },
  {
   "cell_type": "markdown",
   "metadata": {
    "collapsed": true
   },
   "source": [
    "###### Add climate features: daily high temperature [centi-Celsius], daily low temperature [centi-Celsius], daily precipitation [centi-mm]"
   ]
  },
  {
   "cell_type": "code",
   "execution_count": 191,
   "metadata": {
    "collapsed": false
   },
   "outputs": [],
   "source": [
    "climatedata = pd.read_csv('../Data/climate/boston20112014.csv', \\\n",
    "                          converters={'DATE': lambda x: x[0:4] + '-' + x[4:6] + '-' + x[6:8]})"
   ]
  },
  {
   "cell_type": "code",
   "execution_count": 192,
   "metadata": {
    "collapsed": false
   },
   "outputs": [],
   "source": [
    "climatedata1 = climatedata[['DATE', 'PRCP', 'SNOW', 'TMAX', 'TMIN']]"
   ]
  },
  {
   "cell_type": "code",
   "execution_count": 193,
   "metadata": {
    "collapsed": false
   },
   "outputs": [],
   "source": [
    "climatedaydata = climatedata1.groupby('DATE', as_index=False).agg(lambda x: np.median(x[x > -9999]))"
   ]
  },
  {
   "cell_type": "code",
   "execution_count": 194,
   "metadata": {
    "collapsed": false
   },
   "outputs": [],
   "source": [
    "tempdate = pd.DatetimeIndex(climatedaydata['DATE'])\n",
    "climatedaydata['start_day'] = tempdate.date\n",
    "climatedaydata = climatedaydata.drop('DATE', axis=1)"
   ]
  },
  {
   "cell_type": "code",
   "execution_count": 196,
   "metadata": {
    "collapsed": false
   },
   "outputs": [],
   "source": [
    "databyday = databyday.merge(climatedaydata, on='start_day')"
   ]
  },
  {
   "cell_type": "markdown",
   "metadata": {},
   "source": [
    "###### Add feature for origin and destination density"
   ]
  },
  {
   "cell_type": "code",
   "execution_count": 138,
   "metadata": {
    "collapsed": false
   },
   "outputs": [],
   "source": [
    "databyday.to_csv('../Data/Boston/BostonFeatures.csv')"
   ]
  },
  {
   "cell_type": "code",
   "execution_count": null,
   "metadata": {
    "collapsed": true
   },
   "outputs": [],
   "source": []
  }
 ],
 "metadata": {
  "kernelspec": {
   "display_name": "Python 2",
   "language": "python",
   "name": "python2"
  },
  "language_info": {
   "codemirror_mode": {
    "name": "ipython",
    "version": 2
   },
   "file_extension": ".py",
   "mimetype": "text/x-python",
   "name": "python",
   "nbconvert_exporter": "python",
   "pygments_lexer": "ipython2",
   "version": "2.7.10"
  }
 },
 "nbformat": 4,
 "nbformat_minor": 0
}
