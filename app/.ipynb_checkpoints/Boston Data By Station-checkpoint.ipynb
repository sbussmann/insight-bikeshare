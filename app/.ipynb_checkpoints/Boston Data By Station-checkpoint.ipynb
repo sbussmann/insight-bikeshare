{
 "cells": [
  {
   "cell_type": "markdown",
   "metadata": {},
   "source": [
    "# Assemble Boston dataframe"
   ]
  },
  {
   "cell_type": "code",
   "execution_count": 2,
   "metadata": {
    "collapsed": true
   },
   "outputs": [],
   "source": [
    "import pandas as pd\n",
    "%matplotlib inline\n",
    "import glob\n",
    "import numpy as np\n",
    "import matplotlib.pyplot as plt\n"
   ]
  },
  {
   "cell_type": "code",
   "execution_count": 2,
   "metadata": {
    "collapsed": false
   },
   "outputs": [
    {
     "data": {
      "text/plain": [
       "['../Data/Boston/hubway_trips.csv']"
      ]
     },
     "execution_count": 2,
     "metadata": {},
     "output_type": "execute_result"
    }
   ],
   "source": [
    "# read in the data\n",
    "datafiles = glob.glob('../Data/Boston/hubway_trips.csv')\n",
    "datafiles"
   ]
  },
  {
   "cell_type": "code",
   "execution_count": 3,
   "metadata": {
    "collapsed": false
   },
   "outputs": [],
   "source": [
    "df = pd.read_csv('../Data/Boston/hubway_trips_datetime.csv')"
   ]
  },
  {
   "cell_type": "code",
   "execution_count": 5,
   "metadata": {
    "collapsed": false
   },
   "outputs": [
    {
     "data": {
      "text/plain": [
       "Index([u'Unnamed: 0', u'seq_id', u'hubway_id', u'status', u'duration',\n",
       "       u'start_date', u'stationid', u'end_date', u'end_statn', u'bike_nr',\n",
       "       u'subsc_type', u'zip_code', u'birth_date', u'gender', u'start_day',\n",
       "       u'nrides'],\n",
       "      dtype='object')"
      ]
     },
     "execution_count": 5,
     "metadata": {},
     "output_type": "execute_result"
    }
   ],
   "source": [
    "df.columns"
   ]
  },
  {
   "cell_type": "markdown",
   "metadata": {},
   "source": [
    "###### Add features for number of rides per station.  Appoximate number of stations as number of unique start stations."
   ]
  },
  {
   "cell_type": "code",
   "execution_count": 7,
   "metadata": {
    "collapsed": false
   },
   "outputs": [],
   "source": [
    "databydaygroup = df.groupby([\"stationid\", \"start_day\"], as_index=False)"
   ]
  },
  {
   "cell_type": "code",
   "execution_count": 9,
   "metadata": {
    "collapsed": true
   },
   "outputs": [],
   "source": [
    "databyday = databydaygroup.agg({\"nrides\": lambda x: x.sum(), \"duration\": lambda x: np.median(x)})"
   ]
  },
  {
   "cell_type": "code",
   "execution_count": 10,
   "metadata": {
    "collapsed": false
   },
   "outputs": [],
   "source": [
    "databyday['ndays'] = np.ones(len(databyday))"
   ]
  },
  {
   "cell_type": "code",
   "execution_count": 12,
   "metadata": {
    "collapsed": true
   },
   "outputs": [],
   "source": [
    "databystation = databyday.groupby('stationid', as_index=False).agg({'nrides': lambda x: x.sum(), 'ndays': lambda x: x.sum(), 'duration': lambda x: np.median(x)})"
   ]
  },
  {
   "cell_type": "code",
   "execution_count": 13,
   "metadata": {
    "collapsed": false,
    "scrolled": true
   },
   "outputs": [
    {
     "data": {
      "text/html": [
       "<div>\n",
       "<table border=\"1\" class=\"dataframe\">\n",
       "  <thead>\n",
       "    <tr style=\"text-align: right;\">\n",
       "      <th></th>\n",
       "      <th>stationid</th>\n",
       "      <th>duration</th>\n",
       "      <th>nrides</th>\n",
       "      <th>ndays</th>\n",
       "    </tr>\n",
       "  </thead>\n",
       "  <tbody>\n",
       "    <tr>\n",
       "      <th>0</th>\n",
       "      <td>3</td>\n",
       "      <td>713.75</td>\n",
       "      <td>9734</td>\n",
       "      <td>616</td>\n",
       "    </tr>\n",
       "    <tr>\n",
       "      <th>1</th>\n",
       "      <td>4</td>\n",
       "      <td>540.00</td>\n",
       "      <td>18058</td>\n",
       "      <td>584</td>\n",
       "    </tr>\n",
       "    <tr>\n",
       "      <th>2</th>\n",
       "      <td>5</td>\n",
       "      <td>570.00</td>\n",
       "      <td>10630</td>\n",
       "      <td>587</td>\n",
       "    </tr>\n",
       "    <tr>\n",
       "      <th>3</th>\n",
       "      <td>6</td>\n",
       "      <td>630.00</td>\n",
       "      <td>23322</td>\n",
       "      <td>608</td>\n",
       "    </tr>\n",
       "    <tr>\n",
       "      <th>4</th>\n",
       "      <td>7</td>\n",
       "      <td>705.00</td>\n",
       "      <td>9163</td>\n",
       "      <td>564</td>\n",
       "    </tr>\n",
       "    <tr>\n",
       "      <th>5</th>\n",
       "      <td>8</td>\n",
       "      <td>960.00</td>\n",
       "      <td>7570</td>\n",
       "      <td>617</td>\n",
       "    </tr>\n",
       "    <tr>\n",
       "      <th>6</th>\n",
       "      <td>9</td>\n",
       "      <td>720.00</td>\n",
       "      <td>17180</td>\n",
       "      <td>591</td>\n",
       "    </tr>\n",
       "    <tr>\n",
       "      <th>7</th>\n",
       "      <td>10</td>\n",
       "      <td>660.00</td>\n",
       "      <td>16159</td>\n",
       "      <td>589</td>\n",
       "    </tr>\n",
       "    <tr>\n",
       "      <th>8</th>\n",
       "      <td>11</td>\n",
       "      <td>674.50</td>\n",
       "      <td>12393</td>\n",
       "      <td>619</td>\n",
       "    </tr>\n",
       "    <tr>\n",
       "      <th>9</th>\n",
       "      <td>12</td>\n",
       "      <td>589.75</td>\n",
       "      <td>10456</td>\n",
       "      <td>620</td>\n",
       "    </tr>\n",
       "    <tr>\n",
       "      <th>10</th>\n",
       "      <td>13</td>\n",
       "      <td>714.00</td>\n",
       "      <td>3798</td>\n",
       "      <td>320</td>\n",
       "    </tr>\n",
       "    <tr>\n",
       "      <th>11</th>\n",
       "      <td>14</td>\n",
       "      <td>660.00</td>\n",
       "      <td>15738</td>\n",
       "      <td>623</td>\n",
       "    </tr>\n",
       "    <tr>\n",
       "      <th>12</th>\n",
       "      <td>15</td>\n",
       "      <td>1080.00</td>\n",
       "      <td>5163</td>\n",
       "      <td>607</td>\n",
       "    </tr>\n",
       "    <tr>\n",
       "      <th>13</th>\n",
       "      <td>16</td>\n",
       "      <td>574.00</td>\n",
       "      <td>32860</td>\n",
       "      <td>624</td>\n",
       "    </tr>\n",
       "    <tr>\n",
       "      <th>14</th>\n",
       "      <td>17</td>\n",
       "      <td>944.75</td>\n",
       "      <td>11500</td>\n",
       "      <td>620</td>\n",
       "    </tr>\n",
       "    <tr>\n",
       "      <th>15</th>\n",
       "      <td>18</td>\n",
       "      <td>840.00</td>\n",
       "      <td>6672</td>\n",
       "      <td>587</td>\n",
       "    </tr>\n",
       "    <tr>\n",
       "      <th>16</th>\n",
       "      <td>19</td>\n",
       "      <td>720.00</td>\n",
       "      <td>6557</td>\n",
       "      <td>334</td>\n",
       "    </tr>\n",
       "    <tr>\n",
       "      <th>17</th>\n",
       "      <td>20</td>\n",
       "      <td>593.00</td>\n",
       "      <td>24474</td>\n",
       "      <td>622</td>\n",
       "    </tr>\n",
       "    <tr>\n",
       "      <th>18</th>\n",
       "      <td>21</td>\n",
       "      <td>620.75</td>\n",
       "      <td>25551</td>\n",
       "      <td>622</td>\n",
       "    </tr>\n",
       "    <tr>\n",
       "      <th>19</th>\n",
       "      <td>22</td>\n",
       "      <td>540.00</td>\n",
       "      <td>56443</td>\n",
       "      <td>623</td>\n",
       "    </tr>\n",
       "    <tr>\n",
       "      <th>20</th>\n",
       "      <td>23</td>\n",
       "      <td>667.00</td>\n",
       "      <td>11024</td>\n",
       "      <td>324</td>\n",
       "    </tr>\n",
       "    <tr>\n",
       "      <th>21</th>\n",
       "      <td>24</td>\n",
       "      <td>574.00</td>\n",
       "      <td>16131</td>\n",
       "      <td>622</td>\n",
       "    </tr>\n",
       "    <tr>\n",
       "      <th>22</th>\n",
       "      <td>25</td>\n",
       "      <td>540.00</td>\n",
       "      <td>19434</td>\n",
       "      <td>624</td>\n",
       "    </tr>\n",
       "    <tr>\n",
       "      <th>23</th>\n",
       "      <td>26</td>\n",
       "      <td>540.00</td>\n",
       "      <td>18577</td>\n",
       "      <td>578</td>\n",
       "    </tr>\n",
       "    <tr>\n",
       "      <th>24</th>\n",
       "      <td>27</td>\n",
       "      <td>631.00</td>\n",
       "      <td>7734</td>\n",
       "      <td>619</td>\n",
       "    </tr>\n",
       "    <tr>\n",
       "      <th>25</th>\n",
       "      <td>29</td>\n",
       "      <td>840.00</td>\n",
       "      <td>4815</td>\n",
       "      <td>566</td>\n",
       "    </tr>\n",
       "    <tr>\n",
       "      <th>26</th>\n",
       "      <td>30</td>\n",
       "      <td>722.50</td>\n",
       "      <td>9932</td>\n",
       "      <td>578</td>\n",
       "    </tr>\n",
       "    <tr>\n",
       "      <th>27</th>\n",
       "      <td>31</td>\n",
       "      <td>630.00</td>\n",
       "      <td>12492</td>\n",
       "      <td>577</td>\n",
       "    </tr>\n",
       "    <tr>\n",
       "      <th>28</th>\n",
       "      <td>32</td>\n",
       "      <td>607.00</td>\n",
       "      <td>20432</td>\n",
       "      <td>623</td>\n",
       "    </tr>\n",
       "    <tr>\n",
       "      <th>29</th>\n",
       "      <td>33</td>\n",
       "      <td>695.00</td>\n",
       "      <td>31077</td>\n",
       "      <td>604</td>\n",
       "    </tr>\n",
       "    <tr>\n",
       "      <th>...</th>\n",
       "      <td>...</td>\n",
       "      <td>...</td>\n",
       "      <td>...</td>\n",
       "      <td>...</td>\n",
       "    </tr>\n",
       "    <tr>\n",
       "      <th>112</th>\n",
       "      <td>116</td>\n",
       "      <td>600.00</td>\n",
       "      <td>1571</td>\n",
       "      <td>59</td>\n",
       "    </tr>\n",
       "    <tr>\n",
       "      <th>113</th>\n",
       "      <td>117</td>\n",
       "      <td>570.00</td>\n",
       "      <td>818</td>\n",
       "      <td>58</td>\n",
       "    </tr>\n",
       "    <tr>\n",
       "      <th>114</th>\n",
       "      <td>118</td>\n",
       "      <td>870.00</td>\n",
       "      <td>234</td>\n",
       "      <td>53</td>\n",
       "    </tr>\n",
       "    <tr>\n",
       "      <th>115</th>\n",
       "      <td>119</td>\n",
       "      <td>570.00</td>\n",
       "      <td>416</td>\n",
       "      <td>30</td>\n",
       "    </tr>\n",
       "    <tr>\n",
       "      <th>116</th>\n",
       "      <td>120</td>\n",
       "      <td>1200.00</td>\n",
       "      <td>306</td>\n",
       "      <td>58</td>\n",
       "    </tr>\n",
       "    <tr>\n",
       "      <th>117</th>\n",
       "      <td>121</td>\n",
       "      <td>900.00</td>\n",
       "      <td>326</td>\n",
       "      <td>59</td>\n",
       "    </tr>\n",
       "    <tr>\n",
       "      <th>118</th>\n",
       "      <td>122</td>\n",
       "      <td>915.00</td>\n",
       "      <td>488</td>\n",
       "      <td>60</td>\n",
       "    </tr>\n",
       "    <tr>\n",
       "      <th>119</th>\n",
       "      <td>123</td>\n",
       "      <td>960.00</td>\n",
       "      <td>161</td>\n",
       "      <td>54</td>\n",
       "    </tr>\n",
       "    <tr>\n",
       "      <th>120</th>\n",
       "      <td>124</td>\n",
       "      <td>870.00</td>\n",
       "      <td>310</td>\n",
       "      <td>44</td>\n",
       "    </tr>\n",
       "    <tr>\n",
       "      <th>121</th>\n",
       "      <td>125</td>\n",
       "      <td>780.00</td>\n",
       "      <td>202</td>\n",
       "      <td>42</td>\n",
       "    </tr>\n",
       "    <tr>\n",
       "      <th>122</th>\n",
       "      <td>126</td>\n",
       "      <td>870.00</td>\n",
       "      <td>3393</td>\n",
       "      <td>260</td>\n",
       "    </tr>\n",
       "    <tr>\n",
       "      <th>123</th>\n",
       "      <td>127</td>\n",
       "      <td>810.00</td>\n",
       "      <td>3173</td>\n",
       "      <td>233</td>\n",
       "    </tr>\n",
       "    <tr>\n",
       "      <th>124</th>\n",
       "      <td>128</td>\n",
       "      <td>600.00</td>\n",
       "      <td>17514</td>\n",
       "      <td>280</td>\n",
       "    </tr>\n",
       "    <tr>\n",
       "      <th>125</th>\n",
       "      <td>129</td>\n",
       "      <td>840.00</td>\n",
       "      <td>4783</td>\n",
       "      <td>274</td>\n",
       "    </tr>\n",
       "    <tr>\n",
       "      <th>126</th>\n",
       "      <td>130</td>\n",
       "      <td>540.00</td>\n",
       "      <td>5304</td>\n",
       "      <td>241</td>\n",
       "    </tr>\n",
       "    <tr>\n",
       "      <th>127</th>\n",
       "      <td>131</td>\n",
       "      <td>780.00</td>\n",
       "      <td>7951</td>\n",
       "      <td>290</td>\n",
       "    </tr>\n",
       "    <tr>\n",
       "      <th>128</th>\n",
       "      <td>132</td>\n",
       "      <td>600.00</td>\n",
       "      <td>4785</td>\n",
       "      <td>266</td>\n",
       "    </tr>\n",
       "    <tr>\n",
       "      <th>129</th>\n",
       "      <td>133</td>\n",
       "      <td>495.00</td>\n",
       "      <td>4808</td>\n",
       "      <td>290</td>\n",
       "    </tr>\n",
       "    <tr>\n",
       "      <th>130</th>\n",
       "      <td>134</td>\n",
       "      <td>300.00</td>\n",
       "      <td>1955</td>\n",
       "      <td>151</td>\n",
       "    </tr>\n",
       "    <tr>\n",
       "      <th>131</th>\n",
       "      <td>135</td>\n",
       "      <td>480.00</td>\n",
       "      <td>4198</td>\n",
       "      <td>152</td>\n",
       "    </tr>\n",
       "    <tr>\n",
       "      <th>132</th>\n",
       "      <td>136</td>\n",
       "      <td>600.00</td>\n",
       "      <td>2021</td>\n",
       "      <td>114</td>\n",
       "    </tr>\n",
       "    <tr>\n",
       "      <th>133</th>\n",
       "      <td>137</td>\n",
       "      <td>600.00</td>\n",
       "      <td>5815</td>\n",
       "      <td>167</td>\n",
       "    </tr>\n",
       "    <tr>\n",
       "      <th>134</th>\n",
       "      <td>138</td>\n",
       "      <td>720.00</td>\n",
       "      <td>3694</td>\n",
       "      <td>290</td>\n",
       "    </tr>\n",
       "    <tr>\n",
       "      <th>135</th>\n",
       "      <td>139</td>\n",
       "      <td>795.00</td>\n",
       "      <td>8003</td>\n",
       "      <td>296</td>\n",
       "    </tr>\n",
       "    <tr>\n",
       "      <th>136</th>\n",
       "      <td>140</td>\n",
       "      <td>720.00</td>\n",
       "      <td>1539</td>\n",
       "      <td>280</td>\n",
       "    </tr>\n",
       "    <tr>\n",
       "      <th>137</th>\n",
       "      <td>141</td>\n",
       "      <td>780.00</td>\n",
       "      <td>1775</td>\n",
       "      <td>282</td>\n",
       "    </tr>\n",
       "    <tr>\n",
       "      <th>138</th>\n",
       "      <td>142</td>\n",
       "      <td>360.00</td>\n",
       "      <td>1144</td>\n",
       "      <td>141</td>\n",
       "    </tr>\n",
       "    <tr>\n",
       "      <th>139</th>\n",
       "      <td>143</td>\n",
       "      <td>600.00</td>\n",
       "      <td>1088</td>\n",
       "      <td>140</td>\n",
       "    </tr>\n",
       "    <tr>\n",
       "      <th>140</th>\n",
       "      <td>144</td>\n",
       "      <td>180.00</td>\n",
       "      <td>1764</td>\n",
       "      <td>140</td>\n",
       "    </tr>\n",
       "    <tr>\n",
       "      <th>141</th>\n",
       "      <td>145</td>\n",
       "      <td>795.00</td>\n",
       "      <td>221</td>\n",
       "      <td>48</td>\n",
       "    </tr>\n",
       "  </tbody>\n",
       "</table>\n",
       "<p>142 rows × 4 columns</p>\n",
       "</div>"
      ],
      "text/plain": [
       "     stationid  duration  nrides  ndays\n",
       "0            3    713.75    9734    616\n",
       "1            4    540.00   18058    584\n",
       "2            5    570.00   10630    587\n",
       "3            6    630.00   23322    608\n",
       "4            7    705.00    9163    564\n",
       "5            8    960.00    7570    617\n",
       "6            9    720.00   17180    591\n",
       "7           10    660.00   16159    589\n",
       "8           11    674.50   12393    619\n",
       "9           12    589.75   10456    620\n",
       "10          13    714.00    3798    320\n",
       "11          14    660.00   15738    623\n",
       "12          15   1080.00    5163    607\n",
       "13          16    574.00   32860    624\n",
       "14          17    944.75   11500    620\n",
       "15          18    840.00    6672    587\n",
       "16          19    720.00    6557    334\n",
       "17          20    593.00   24474    622\n",
       "18          21    620.75   25551    622\n",
       "19          22    540.00   56443    623\n",
       "20          23    667.00   11024    324\n",
       "21          24    574.00   16131    622\n",
       "22          25    540.00   19434    624\n",
       "23          26    540.00   18577    578\n",
       "24          27    631.00    7734    619\n",
       "25          29    840.00    4815    566\n",
       "26          30    722.50    9932    578\n",
       "27          31    630.00   12492    577\n",
       "28          32    607.00   20432    623\n",
       "29          33    695.00   31077    604\n",
       "..         ...       ...     ...    ...\n",
       "112        116    600.00    1571     59\n",
       "113        117    570.00     818     58\n",
       "114        118    870.00     234     53\n",
       "115        119    570.00     416     30\n",
       "116        120   1200.00     306     58\n",
       "117        121    900.00     326     59\n",
       "118        122    915.00     488     60\n",
       "119        123    960.00     161     54\n",
       "120        124    870.00     310     44\n",
       "121        125    780.00     202     42\n",
       "122        126    870.00    3393    260\n",
       "123        127    810.00    3173    233\n",
       "124        128    600.00   17514    280\n",
       "125        129    840.00    4783    274\n",
       "126        130    540.00    5304    241\n",
       "127        131    780.00    7951    290\n",
       "128        132    600.00    4785    266\n",
       "129        133    495.00    4808    290\n",
       "130        134    300.00    1955    151\n",
       "131        135    480.00    4198    152\n",
       "132        136    600.00    2021    114\n",
       "133        137    600.00    5815    167\n",
       "134        138    720.00    3694    290\n",
       "135        139    795.00    8003    296\n",
       "136        140    720.00    1539    280\n",
       "137        141    780.00    1775    282\n",
       "138        142    360.00    1144    141\n",
       "139        143    600.00    1088    140\n",
       "140        144    180.00    1764    140\n",
       "141        145    795.00     221     48\n",
       "\n",
       "[142 rows x 4 columns]"
      ]
     },
     "execution_count": 13,
     "metadata": {},
     "output_type": "execute_result"
    }
   ],
   "source": [
    "databystation"
   ]
  },
  {
   "cell_type": "markdown",
   "metadata": {},
   "source": [
    "###### Add feature for origin and destination density"
   ]
  },
  {
   "cell_type": "code",
   "execution_count": 14,
   "metadata": {
    "collapsed": true
   },
   "outputs": [],
   "source": [
    "station = pd.read_csv('../Data/Boston/stationdensity.csv')"
   ]
  },
  {
   "cell_type": "code",
   "execution_count": 17,
   "metadata": {
    "collapsed": false,
    "scrolled": true
   },
   "outputs": [],
   "source": [
    "databystation = databystation.merge(station, on='stationid')\n",
    "databystation = databystation.drop(['terminal', 'station', 'status', 'municipal'], axis=1)"
   ]
  },
  {
   "cell_type": "code",
   "execution_count": 21,
   "metadata": {
    "collapsed": false,
    "scrolled": true
   },
   "outputs": [],
   "source": [
    "databystation = databystation.drop('Unnamed: 0', axis=1)"
   ]
  },
  {
   "cell_type": "code",
   "execution_count": 25,
   "metadata": {
    "collapsed": false
   },
   "outputs": [],
   "source": [
    "databystation = databystation.rename(columns={'empdensity': 'workdensity'})"
   ]
  },
  {
   "cell_type": "markdown",
   "metadata": {},
   "source": [
    "###### Save final dataframe"
   ]
  },
  {
   "cell_type": "code",
   "execution_count": 29,
   "metadata": {
    "collapsed": true
   },
   "outputs": [],
   "source": [
    "popd = databystation['popdensity'].values\n",
    "workd = databystation['workdensity'].values"
   ]
  },
  {
   "cell_type": "code",
   "execution_count": 32,
   "metadata": {
    "collapsed": false
   },
   "outputs": [],
   "source": [
    "huh = workd == '--'"
   ]
  },
  {
   "cell_type": "code",
   "execution_count": 33,
   "metadata": {
    "collapsed": true
   },
   "outputs": [],
   "source": [
    "workd[huh] = 10000."
   ]
  },
  {
   "cell_type": "code",
   "execution_count": 35,
   "metadata": {
    "collapsed": false
   },
   "outputs": [],
   "source": [
    "workd = workd.astype('float')"
   ]
  },
  {
   "cell_type": "code",
   "execution_count": 38,
   "metadata": {
    "collapsed": true
   },
   "outputs": [],
   "source": [
    "databystation['workdensity'] = workd"
   ]
  },
  {
   "cell_type": "code",
   "execution_count": 40,
   "metadata": {
    "collapsed": false
   },
   "outputs": [],
   "source": [
    "databystation.to_csv('../Data/Boston/BostonFeaturesByStation.csv')"
   ]
  },
  {
   "cell_type": "code",
   "execution_count": 37,
   "metadata": {
    "collapsed": false
   },
   "outputs": [
    {
     "data": {
      "text/plain": [
       "[<matplotlib.lines.Line2D at 0x1081c80d0>]"
      ]
     },
     "execution_count": 37,
     "metadata": {},
     "output_type": "execute_result"
    },
    {
     "data": {
      "image/png": "[encoded data removed]",
      "text/plain": [
       "<matplotlib.figure.Figure at 0x1081501d0>"
      ]
     },
     "metadata": {},
     "output_type": "display_data"
    }
   ],
   "source": [
    "totald = popd + workd\n",
    "nrides = databystation['nrides'].values\n",
    "ndays = databystation['ndays'].values\n",
    "plt.plot(totald, nrides/ndays, '.')"
   ]
  },
  {
   "cell_type": "code",
   "execution_count": null,
   "metadata": {
    "collapsed": true
   },
   "outputs": [],
   "source": []
  },
  {
   "cell_type": "code",
   "execution_count": null,
   "metadata": {
    "collapsed": true
   },
   "outputs": [],
   "source": []
  }
 ],
 "metadata": {
  "kernelspec": {
   "display_name": "Python 2",
   "language": "python",
   "name": "python2"
  },
  "language_info": {
   "codemirror_mode": {
    "name": "ipython",
    "version": 2
   },
   "file_extension": ".py",
   "mimetype": "text/x-python",
   "name": "python",
   "nbconvert_exporter": "python",
   "pygments_lexer": "ipython2",
   "version": "2.7.10"
  }
 },
 "nbformat": 4,
 "nbformat_minor": 0
}
