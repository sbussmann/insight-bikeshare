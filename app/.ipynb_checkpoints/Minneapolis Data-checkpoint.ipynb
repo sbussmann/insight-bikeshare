{
 "cells": [
  {
   "cell_type": "markdown",
   "metadata": {},
   "source": [
    "# Consolidate quarterly NYC data summaries into one csv file"
   ]
  },
  {
   "cell_type": "code",
   "execution_count": 3,
   "metadata": {
    "collapsed": true
   },
   "outputs": [],
   "source": [
    "import pandas as pd\n",
    "%matplotlib inline"
   ]
  },
  {
   "cell_type": "code",
   "execution_count": 4,
   "metadata": {
    "collapsed": true
   },
   "outputs": [],
   "source": [
    "# read in the data\n",
    "d1 = pd.read_csv('NYC/data1.csv')\n",
    "d2 = pd.read_csv('NYC/data2.csv')\n",
    "d3 = pd.read_csv('NYC/data3.csv')\n",
    "d4 = pd.read_csv('NYC/data4.csv')\n",
    "d5 = pd.read_csv('NYC/data5.csv')\n",
    "d6 = pd.read_csv('NYC/data6.csv')\n",
    "d7 = pd.read_csv('NYC/data7.csv')"
   ]
  },
  {
   "cell_type": "code",
   "execution_count": 5,
   "metadata": {
    "collapsed": true
   },
   "outputs": [],
   "source": [
    "dall = [d1, d2, d3, d4, d5, d6, d7]\n",
    "dconcat = pd.concat(dall)"
   ]
  },
  {
   "cell_type": "code",
   "execution_count": 8,
   "metadata": {
    "collapsed": false
   },
   "outputs": [],
   "source": [
    "dconcat.to_csv('NYC/alldata.csv')"
   ]
  },
  {
   "cell_type": "code",
   "execution_count": null,
   "metadata": {
    "collapsed": true
   },
   "outputs": [],
   "source": []
  }
 ],
 "metadata": {
  "kernelspec": {
   "display_name": "Python 2",
   "language": "python",
   "name": "python2"
  },
  "language_info": {
   "codemirror_mode": {
    "name": "ipython",
    "version": 2
   },
   "file_extension": ".py",
   "mimetype": "text/x-python",
   "name": "python",
   "nbconvert_exporter": "python",
   "pygments_lexer": "ipython2",
   "version": "2.7.10"
  }
 },
 "nbformat": 4,
 "nbformat_minor": 0
}
