{
 "cells": [
  {
   "cell_type": "markdown",
   "metadata": {},
   "source": [
    "# Goal: generate a heat map of population density for both residents and employees using US Census data for the city of Boston."
   ]
  },
  {
   "cell_type": "code",
   "execution_count": 23,
   "metadata": {
    "collapsed": true
   },
   "outputs": [],
   "source": [
    "import pandas as pd\n",
    "import numpy as np\n",
    "%matplotlib inline\n",
    "import densitymetric\n",
    "import matplotlib.mlab as mlab"
   ]
  },
  {
   "cell_type": "code",
   "execution_count": 12,
   "metadata": {
    "collapsed": false
   },
   "outputs": [],
   "source": [
    "# read in employee data from US Census\n",
    "employee = pd.read_csv('../Data/census/BP_2012_00CZ1/BP_2012_00CZ1_with_ann.csv')\n",
    "\n",
    "# greater Boston area zip codes (from freemaptools.com)\n",
    "bostonzip = pd.read_csv('../Data/zipcode/bostonzipcodes.csv', \\\n",
    "        converters={'zip': lambda x: str(x)})\n",
    "\n",
    "# filter out non-Boston zip codes\n",
    "employee = employee.merge(bostonzip, on='zip')\n",
    "\n",
    "# get latitude and longitude of zip codes\n",
    "latlong = pd.read_csv('../Data/zipcode/zipcode.csv', \\\n",
    "        converters={'zip': lambda x: str(x)})\n",
    "\n",
    "# add lat and long data to employee dataframe\n",
    "employee = employee.merge(latlong, on='zip')\n",
    "\n",
    "# convert non-numeric values to NaNs\n",
    "employee['EMP'] = employee['EMP'].convert_objects(convert_numeric=True)"
   ]
  },
  {
   "cell_type": "code",
   "execution_count": 17,
   "metadata": {
    "collapsed": false
   },
   "outputs": [],
   "source": [
    "population = pd.read_csv(\n",
    "        '../Data/census/DEC_10_SF1_GCTPH1/DEC_10_SF1_GCTPH1.ST09_with_ann.csv', \n",
    "        converters={'zip': lambda x: x[-5:]})\n",
    "population = population.merge(bostonzip, on='zip')\n",
    "population = population.merge(latlong, on='zip')"
   ]
  },
  {
   "cell_type": "code",
   "execution_count": 24,
   "metadata": {
    "collapsed": false
   },
   "outputs": [],
   "source": [
    "# Generate a regular grid to interpolate the data.\n",
    "xmin = -71.19\n",
    "xmax = -70.98\n",
    "ymin = 42.29\n",
    "ymax = 42.43\n",
    "nx = 200\n",
    "ny = 200\n",
    "xi = np.linspace(xmin, xmax, nx)\n",
    "yi = np.linspace(ymin, ymax, ny)\n",
    "xi, yi = np.meshgrid(xi, yi)\n",
    "x = employee['longitude']\n",
    "y = employee['latitude']\n",
    "z = employee['EMP']\n",
    "destination = mlab.griddata(x, y, z, xi, yi, interp='linear')\n",
    "x = population['longitude']\n",
    "y = population['latitude']\n",
    "z = population['SUBHD0401']\n",
    "origin = mlab.griddata(x, y, z, xi, yi, interp='linear')\n",
    "origdest = origin * destination"
   ]
  },
  {
   "cell_type": "code",
   "execution_count": null,
   "metadata": {
    "collapsed": true
   },
   "outputs": [],
   "source": [
    "\n",
    "density = densitymetric.getval(xi, yi, origdest, inlat, inlong, radius)"
   ]
  },
  {
   "cell_type": "code",
   "execution_count": 49,
   "metadata": {
    "collapsed": false
   },
   "outputs": [
    {
     "data": {
      "text/plain": [
       "<matplotlib.axes._subplots.AxesSubplot at 0x1080b26d0>"
      ]
     },
     "execution_count": 49,
     "metadata": {},
     "output_type": "execute_result"
    },
    {
     "data": {
      "image/png": "[encoded data removed]",
      "text/plain": [
       "<matplotlib.figure.Figure at 0x10b9cbf90>"
      ]
     },
     "metadata": {},
     "output_type": "display_data"
    }
   ],
   "source": [
    "\n",
    "# plot latitude and longitude of employee locations with size determined by\n",
    "# number of employees\n",
    "sizevec = (employee['EMP'])\n",
    "employee.plot(x='longitude', y='latitude', kind='scatter', s=sizevec/200, alpha=0.2, linewidths=0)\n"
   ]
  },
  {
   "cell_type": "code",
   "execution_count": null,
   "metadata": {
    "collapsed": true
   },
   "outputs": [],
   "source": []
  }
 ],
 "metadata": {
  "kernelspec": {
   "display_name": "Python 2",
   "language": "python",
   "name": "python2"
  },
  "language_info": {
   "codemirror_mode": {
    "name": "ipython",
    "version": 2
   },
   "file_extension": ".py",
   "mimetype": "text/x-python",
   "name": "python",
   "nbconvert_exporter": "python",
   "pygments_lexer": "ipython2",
   "version": "2.7.10"
  }
 },
 "nbformat": 4,
 "nbformat_minor": 0
}
