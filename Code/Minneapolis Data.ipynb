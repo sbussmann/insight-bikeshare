{
 "cells": [
  {
   "cell_type": "markdown",
   "metadata": {},
   "source": [
    "# Consolidate annual Minneapolis data summaries into one csv file"
   ]
  },
  {
   "cell_type": "code",
   "execution_count": 1,
   "metadata": {
    "collapsed": true
   },
   "outputs": [],
   "source": [
    "import pandas as pd\n",
    "%matplotlib inline"
   ]
  },
  {
   "cell_type": "code",
   "execution_count": 3,
   "metadata": {
    "collapsed": false
   },
   "outputs": [],
   "source": [
    "# read in the data\n",
    "d1 = pd.read_csv('../Data/niceride/Nice_Ride_data_2010_season/Nice_Ride_trip_history_2010_season.csv')\n",
    "d2 = pd.read_csv('../Data/niceride/Nice_Ride_data_2011_season/Nice_Ride_trip_history_2011_season.csv')\n",
    "d3 = pd.read_csv('../Data/niceride/Nice_Ride_data_2012_season/Nice_Ride_trip_history_2012_season.csv')\n",
    "d4 = pd.read_csv('../Data/niceride/Nice_Ride_data_2013_season/Nice_Ride_trip_history_2013_season.csv')\n",
    "d5 = pd.read_csv('../Data/niceride/Nice_Ride_data_2014_season/Nice_Ride_trip_history_2014_season.csv')\n",
    "d6 = pd.read_csv('../Data/niceride/Nice_Ride_data_2015_thru_0630/Nice_Ride_trip_history_2015_season_thru_0630.csv')\n"
   ]
  },
  {
   "cell_type": "code",
   "execution_count": 4,
   "metadata": {
    "collapsed": true
   },
   "outputs": [],
   "source": [
    "dall = [d1, d2, d3, d4, d5, d6]\n",
    "dconcat = pd.concat(dall)"
   ]
  },
  {
   "cell_type": "code",
   "execution_count": 6,
   "metadata": {
    "collapsed": false
   },
   "outputs": [],
   "source": [
    "dconcat.to_csv('../Data/niceride/alldata_minneapolis.csv')"
   ]
  },
  {
   "cell_type": "code",
   "execution_count": null,
   "metadata": {
    "collapsed": true
   },
   "outputs": [],
   "source": []
  }
 ],
 "metadata": {
  "kernelspec": {
   "display_name": "Python 2",
   "language": "python",
   "name": "python2"
  },
  "language_info": {
   "codemirror_mode": {
    "name": "ipython",
    "version": 2
   },
   "file_extension": ".py",
   "mimetype": "text/x-python",
   "name": "python",
   "nbconvert_exporter": "python",
   "pygments_lexer": "ipython2",
   "version": "2.7.10"
  }
 },
 "nbformat": 4,
 "nbformat_minor": 0
}
