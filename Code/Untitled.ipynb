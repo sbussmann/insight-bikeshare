{
 "cells": [
  {
   "cell_type": "code",
   "execution_count": 1,
   "metadata": {
    "collapsed": true
   },
   "outputs": [],
   "source": [
    "import pandas as pd"
   ]
  },
  {
   "cell_type": "code",
   "execution_count": 11,
   "metadata": {
    "collapsed": false
   },
   "outputs": [],
   "source": [
    "import json\n",
    "from pprint import pprint\n",
    "\n",
    "with open('../Data/Boston/charlesriver.json') as data_file:    \n",
    "    data = json.load(data_file)"
   ]
  },
  {
   "cell_type": "code",
   "execution_count": 16,
   "metadata": {
    "collapsed": false
   },
   "outputs": [
    {
     "data": {
      "text/plain": [
       "[u'elements', u'version', u'osm3s', u'generator']"
      ]
     },
     "execution_count": 16,
     "metadata": {},
     "output_type": "execute_result"
    }
   ],
   "source": [
    "data.keys()"
   ]
  },
  {
   "cell_type": "code",
   "execution_count": 18,
   "metadata": {
    "collapsed": false
   },
   "outputs": [],
   "source": [
    "elements = data['elements']"
   ]
  },
  {
   "cell_type": "code",
   "execution_count": 22,
   "metadata": {
    "collapsed": false
   },
   "outputs": [
    {
     "data": {
      "text/plain": [
       "{u'id': 24677760,\n",
       " u'nodes': [268232031,\n",
       "  268232032,\n",
       "  1830597825,\n",
       "  268232033,\n",
       "  268232034,\n",
       "  268232035,\n",
       "  268232037,\n",
       "  1830597840,\n",
       "  268232038,\n",
       "  1830597842,\n",
       "  268232039,\n",
       "  1830597838,\n",
       "  268232040,\n",
       "  1830597837,\n",
       "  268232041,\n",
       "  1830597830,\n",
       "  268232042,\n",
       "  1830597824,\n",
       "  268232043,\n",
       "  1830597821,\n",
       "  268232044,\n",
       "  1830597817,\n",
       "  268232045,\n",
       "  268232046,\n",
       "  268232047,\n",
       "  268232048,\n",
       "  268232049,\n",
       "  268232050,\n",
       "  268232051,\n",
       "  268232052,\n",
       "  268232053,\n",
       "  268232054,\n",
       "  268232055,\n",
       "  268232056,\n",
       "  268232057,\n",
       "  268232031],\n",
       " u'tags': {u'name': u'Frog Pond',\n",
       "  u'natural': u'water',\n",
       "  u'opening_hours': u'Tu-Su 10:00-21:00; Mo 10:00-17:00; Apr-Oct off',\n",
       "  u'sport': u'skating',\n",
       "  u'url': u'http://www.bostonfrogpond.com/'},\n",
       " u'type': u'way'}"
      ]
     },
     "execution_count": 22,
     "metadata": {},
     "output_type": "execute_result"
    }
   ],
   "source": [
    "elements[0]"
   ]
  },
  {
   "cell_type": "code",
   "execution_count": null,
   "metadata": {
    "collapsed": true
   },
   "outputs": [],
   "source": []
  }
 ],
 "metadata": {
  "kernelspec": {
   "display_name": "Python 2",
   "language": "python",
   "name": "python2"
  },
  "language_info": {
   "codemirror_mode": {
    "name": "ipython",
    "version": 2
   },
   "file_extension": ".py",
   "mimetype": "text/x-python",
   "name": "python",
   "nbconvert_exporter": "python",
   "pygments_lexer": "ipython2",
   "version": "2.7.10"
  }
 },
 "nbformat": 4,
 "nbformat_minor": 0
}
