{
 "cells": [
  {
   "cell_type": "code",
   "execution_count": 8,
   "metadata": {
    "collapsed": true
   },
   "outputs": [],
   "source": [
    "import matplotlib.pyplot as plt\n",
    "from mpl_toolkits.basemap import Basemap\n",
    "import pandas as pd\n",
    "%matplotlib inline\n",
    "import numpy as np"
   ]
  },
  {
   "cell_type": "code",
   "execution_count": 9,
   "metadata": {
    "collapsed": true
   },
   "outputs": [],
   "source": [
    "ridemap = pd.read_csv('../Data/Boston/nridesmap.csv')"
   ]
  },
  {
   "cell_type": "code",
   "execution_count": 10,
   "metadata": {
    "collapsed": false
   },
   "outputs": [],
   "source": [
    "latmin = 42.29\n",
    "latmax = 42.43\n",
    "longmin = -71.19\n",
    "longmax = -70.98\n",
    "nlat = 100\n",
    "nlong = 100\n",
    "latvec = np.linspace(latmin, latmax, nlat)\n",
    "longvec = np.linspace(longmin, longmax, nlong)"
   ]
  },
  {
   "cell_type": "code",
   "execution_count": 40,
   "metadata": {
    "collapsed": false
   },
   "outputs": [],
   "source": [
    "my_map = Basemap(projection='merc',\n",
    "    resolution = 'i', area_thresh = 0.1,\n",
    "    llcrnrlon=longmin-.5, llcrnrlat=latmin-.5,\n",
    "    urcrnrlon=longmax+.5, urcrnrlat=latmax+.5)"
   ]
  },
  {
   "cell_type": "code",
   "execution_count": 43,
   "metadata": {
    "collapsed": false
   },
   "outputs": [
    {
     "data": {
      "text/plain": [
       "<matplotlib.collections.LineCollection at 0x108ead250>"
      ]
     },
     "execution_count": 43,
     "metadata": {},
     "output_type": "execute_result"
    },
    {
     "data": {
      "image/png": "[encoded data removed]",
      "text/plain": [
       "<matplotlib.figure.Figure at 0x108ead750>"
      ]
     },
     "metadata": {},
     "output_type": "display_data"
    }
   ],
   "source": [
    "my_map.drawrivers()\n",
    "my_map.drawcoastlines()"
   ]
  },
  {
   "cell_type": "code",
   "execution_count": null,
   "metadata": {
    "collapsed": true
   },
   "outputs": [],
   "source": [
    "#plt.imshow(nrides, vmin=0, vmax=100, extent=[longmin,longmax,latmin,latmax], origin='lower')\n",
    "plt.clf()\n",
    "my_map = Basemap(projection='merc',\n",
    "    resolution = 'f', area_thresh = 0.001,\n",
    "    llcrnrlon=longmin-0.2, llcrnrlat=latmin-0.2,\n",
    "    urcrnrlon=longmax+0.2, urcrnrlat=latmax+0.2)\n",
    " \n",
    "\n",
    "my_map.drawrivers()\n",
    "my_map.fillcontinents(color='coral', lake_color='aqua', zorder=0)\n",
    "#my_map.drawmapboundary()\n",
    "#my_map.pcolormesh(longvec, latvec, nrides, cmap='Blues', vmin=0, vmax=25, latlon=True)\n",
    "#cbar = my_map.colorbar()\n",
    "#cbar.set_label('Predicted number of daily rides')\n",
    "#my_map.scatter(station['lng'], station['lat'], s=stationfeatures['ridesperday'], alpha=0.4, color='white', edgecolor='black', label='Hubway stations, sized by \\n observed number of daily rides', latlon=True)\n",
    "#plt.axis([longmin, longmax, latmin, latmax])\n",
    "plt.xlabel('Longitude')\n",
    "plt.ylabel('Latitude')\n",
    "plt.legend(loc='best')\n",
    "plt.tight_layout()\n",
    "savefig('../Figures/predictedridebasemap.png')\n",
    "import pdb; pdb.set_trace()\n"
   ]
  }
 ],
 "metadata": {
  "kernelspec": {
   "display_name": "Python 2",
   "language": "python",
   "name": "python2"
  },
  "language_info": {
   "codemirror_mode": {
    "name": "ipython",
    "version": 2
   },
   "file_extension": ".py",
   "mimetype": "text/x-python",
   "name": "python",
   "nbconvert_exporter": "python",
   "pygments_lexer": "ipython2",
   "version": "2.7.10"
  }
 },
 "nbformat": 4,
 "nbformat_minor": 0
}
